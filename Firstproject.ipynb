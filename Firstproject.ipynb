{
 "cells": [
  {
   "cell_type": "markdown",
   "metadata": {},
   "source": [
    "<h1>Simple LLM Application <h1>"
   ]
  },
  {
   "cell_type": "code",
   "execution_count": 3,
   "metadata": {},
   "outputs": [],
   "source": [
    "# I have followed the tutorial: https://python.langchain.com/v0.2/docs/tutorials/llm_chain/\n",
    "# The full tutorial list is below, my study plan is to follow these tutorials: https://python.langchain.com/v0.2/docs/tutorials/\n",
    "# Introduction page: https://python.langchain.com/v0.2/docs/introduction/"
   ]
  },
  {
   "cell_type": "code",
   "execution_count": 4,
   "metadata": {},
   "outputs": [],
   "source": [
    "#Optionally create a virtual environment guide is here:\n",
    "# https://medium.com/@claudia.nikel/how-to-setup-a-jupyter-notebook-in-vs-code-w-virtual-env-kernels-install-packages-884cf643375e"
   ]
  },
  {
   "cell_type": "code",
   "execution_count": 2,
   "metadata": {},
   "outputs": [],
   "source": [
    "#To install langchain:\n",
    "\n",
    "#import sys\n",
    "#!{sys.executable} -m pip install langchain\n",
    "#!pip install langchain"
   ]
  },
  {
   "cell_type": "code",
   "execution_count": 3,
   "metadata": {},
   "outputs": [
    {
     "name": "stdout",
     "output_type": "stream",
     "text": [
      "env: LANGCHAIN_TRACING_V2=\"true\"\n",
      "env: LANGCHAIN_API_KEY=\"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\"\n"
     ]
    }
   ],
   "source": [
    "#Set environment variables:\n",
    "\n",
    "%env LANGCHAIN_TRACING_V2=\"true\"\n",
    "%env LANGCHAIN_API_KEY=\"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\""
   ]
  },
  {
   "cell_type": "code",
   "execution_count": 12,
   "metadata": {},
   "outputs": [
    {
     "name": "stdout",
     "output_type": "stream",
     "text": [
      "env: NVIDIA_API_KEY== YmM0MzRpdXU1b2EycGpwbnVmMDVsYWpha206NDZlODQyZmQtZDQzYi00ZjM5LWExZjEtYzNlMDgxZTUxZjg4\n"
     ]
    }
   ],
   "source": [
    "#I chose openai but they started charging for API use, so I tried cohere since its the only 1 that seems 2 be free:\n",
    "\n",
    "#So we setup the huggingface below:\n",
    "#!pip install -qU langchain-cohere\n",
    "#import sys\n",
    "#!{sys.executable} -m pip install -qU langchain-cohere\n",
    "#!pip install -qU langchain-nvidia-ai-endpoints\n",
    "#!pip install langchain --upgrade\n",
    "\n",
    "#https://docs.nvidia.com/ai-enterprise/deployment-guide-spark-rapids-accelerator/0.1.0/appendix-ngc.html\n",
    "#https://org.ngc.nvidia.com/setup/api-key\n",
    "%env NVIDIA_API_KEY == YmM0MzRpdXU1b2EycGpwbnVmMDVsYWpha206NDZlODQyZmQtZDQzYi00ZjM5LWExZjEtYzNlMDgxZTUxZjg4"
   ]
  },
  {
   "cell_type": "code",
   "execution_count": 13,
   "metadata": {},
   "outputs": [
    {
     "ename": "ImportError",
     "evalue": "cannot import name 'ChatNVIDIA' from 'langchain' (/Users/derinberktay/Desktop/LLM/my_virtual_env/lib/python3.12/site-packages/langchain/__init__.py)",
     "output_type": "error",
     "traceback": [
      "\u001b[0;31m---------------------------------------------------------------------------\u001b[0m",
      "\u001b[0;31mImportError\u001b[0m                               Traceback (most recent call last)",
      "Cell \u001b[0;32mIn[13], line 6\u001b[0m\n\u001b[1;32m      2\u001b[0m \u001b[38;5;28;01mimport\u001b[39;00m \u001b[38;5;21;01mos\u001b[39;00m\n\u001b[1;32m      4\u001b[0m os\u001b[38;5;241m.\u001b[39menviron[\u001b[38;5;124m\"\u001b[39m\u001b[38;5;124mNVIDIA_API_KEY\u001b[39m\u001b[38;5;124m\"\u001b[39m] \u001b[38;5;241m=\u001b[39m \u001b[38;5;124m\"\u001b[39m\u001b[38;5;124mYmM0MzRpdXU1b2EycGpwbnVmMDVsYWpha206NDZlODQyZmQtZDQzYi00ZjM5LWExZjEtYzNlMDgxZTUxZjg4\u001b[39m\u001b[38;5;124m\"\u001b[39m\n\u001b[0;32m----> 6\u001b[0m \u001b[38;5;28;01mfrom\u001b[39;00m \u001b[38;5;21;01mlangchain\u001b[39;00m \u001b[38;5;28;01mimport\u001b[39;00m ChatNVIDIA\n\u001b[1;32m      8\u001b[0m model \u001b[38;5;241m=\u001b[39m ChatNVIDIA(model\u001b[38;5;241m=\u001b[39m\u001b[38;5;124m\"\u001b[39m\u001b[38;5;124mmeta/llama3-70b-instruct\u001b[39m\u001b[38;5;124m\"\u001b[39m)\n",
      "\u001b[0;31mImportError\u001b[0m: cannot import name 'ChatNVIDIA' from 'langchain' (/Users/derinberktay/Desktop/LLM/my_virtual_env/lib/python3.12/site-packages/langchain/__init__.py)"
     ]
    }
   ],
   "source": [
    "import getpass\n",
    "import os\n",
    "\n",
    "os.environ[\"NVIDIA_API_KEY\"] = \"YmM0MzRpdXU1b2EycGpwbnVmMDVsYWpha206NDZlODQyZmQtZDQzYi00ZjM5LWExZjEtYzNlMDgxZTUxZjg4\"\n",
    "\n",
    "from langchain import ChatNVIDIA\n",
    "\n",
    "model = ChatNVIDIA(model=\"meta/llama3-70b-instruct\")"
   ]
  },
  {
   "cell_type": "code",
   "execution_count": null,
   "metadata": {},
   "outputs": [],
   "source": []
  }
 ],
 "metadata": {
  "kernelspec": {
   "display_name": "my_virtual_env",
   "language": "python",
   "name": "python3"
  },
  "language_info": {
   "codemirror_mode": {
    "name": "ipython",
    "version": 3
   },
   "file_extension": ".py",
   "mimetype": "text/x-python",
   "name": "python",
   "nbconvert_exporter": "python",
   "pygments_lexer": "ipython3",
   "version": "3.12.2"
  }
 },
 "nbformat": 4,
 "nbformat_minor": 2
}
